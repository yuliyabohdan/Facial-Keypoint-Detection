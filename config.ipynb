{
  "nbformat": 4,
  "nbformat_minor": 5,
  "metadata": {
    "kernelspec": {
      "display_name": "Python 3 (ipykernel)",
      "language": "python",
      "name": "python3"
    },
    "language_info": {
      "codemirror_mode": {
        "name": "ipython",
        "version": 3
      },
      "file_extension": ".py",
      "mimetype": "text/x-python",
      "name": "python",
      "nbconvert_exporter": "python",
      "pygments_lexer": "ipython3",
      "version": "3.7.9"
    },
    "colab": {
      "name": "config.ipynb",
      "provenance": [],
      "collapsed_sections": [],
      "include_colab_link": true
    }
  },
  "cells": [
    {
      "cell_type": "markdown",
      "metadata": {
        "id": "view-in-github",
        "colab_type": "text"
      },
      "source": [
        "<a href=\"https://colab.research.google.com/github/yuliyabohdan/Facial-Keypoint-Detection/blob/main/config.ipynb\" target=\"_parent\"><img src=\"https://colab.research.google.com/assets/colab-badge.svg\" alt=\"Open In Colab\"/></a>"
      ]
    },
    {
      "cell_type": "code",
      "metadata": {
        "id": "34cca486"
      },
      "source": [
        "import torch\n",
        "# constant paths\n",
        "ROOT_PATH = '../Search_for_key_points_on_the_face'\n",
        "OUTPUT_PATH = '../Search_for_key_points_on_the_face/outputs'\n",
        "# learning parameters\n",
        "BATCH_SIZE = 32\n",
        "LR = 0.001\n",
        "EPOCHS = 20\n",
        "DEVICE = torch.device('cuda' if torch.cuda.is_available() else 'cpu')\n",
        "# train/test split\n",
        "TEST_SPLIT = 0.1\n",
        "# show dataset keypoint plot\n",
        "SHOW_DATASET_PLOT = True"
      ],
      "id": "34cca486",
      "execution_count": null,
      "outputs": []
    },
    {
      "cell_type": "code",
      "metadata": {
        "id": "be97bac5"
      },
      "source": [
        ""
      ],
      "id": "be97bac5",
      "execution_count": null,
      "outputs": []
    }
  ]
}