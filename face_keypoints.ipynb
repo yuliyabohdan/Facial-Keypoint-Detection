{
  "nbformat": 4,
  "nbformat_minor": 5,
  "metadata": {
    "kernelspec": {
      "display_name": "Python 3 (ipykernel)",
      "language": "python",
      "name": "python3"
    },
    "language_info": {
      "codemirror_mode": {
        "name": "ipython",
        "version": 3
      },
      "file_extension": ".py",
      "mimetype": "text/x-python",
      "name": "python",
      "nbconvert_exporter": "python",
      "pygments_lexer": "ipython3",
      "version": "3.7.9"
    },
    "colab": {
      "name": "face_keypoints.ipynb",
      "provenance": [],
      "collapsed_sections": [],
      "include_colab_link": true
    }
  },
  "cells": [
    {
      "cell_type": "markdown",
      "metadata": {
        "id": "view-in-github",
        "colab_type": "text"
      },
      "source": [
        "<a href=\"https://colab.research.google.com/github/yuliyabohdan/Facial-Keypoint-Detection/blob/main/face_keypoints.ipynb\" target=\"_parent\"><img src=\"https://colab.research.google.com/assets/colab-badge.svg\" alt=\"Open In Colab\"/></a>"
      ]
    },
    {
      "cell_type": "code",
      "metadata": {
        "colab": {
          "base_uri": "https://localhost:8080/"
        },
        "id": "zaEj6IrVnKTY",
        "outputId": "f01fce04-deeb-41bc-c707-2c7ab7fa0f67"
      },
      "source": [
        "from google.colab import drive\n",
        "drive.mount('/content/gdrive')"
      ],
      "id": "zaEj6IrVnKTY",
      "execution_count": 12,
      "outputs": [
        {
          "output_type": "stream",
          "name": "stdout",
          "text": [
            "Drive already mounted at /content/gdrive; to attempt to forcibly remount, call drive.mount(\"/content/gdrive\", force_remount=True).\n"
          ]
        }
      ]
    },
    {
      "cell_type": "code",
      "metadata": {
        "colab": {
          "base_uri": "https://localhost:8080/"
        },
        "id": "BV1NojZmnWFO",
        "outputId": "db42aac1-fdd4-42ce-be79-37acceeb193e"
      },
      "source": [
        "%cd /content/gdrive/My Drive/Colab/Search_for_key_points_on_the_face"
      ],
      "id": "BV1NojZmnWFO",
      "execution_count": 13,
      "outputs": [
        {
          "output_type": "stream",
          "name": "stdout",
          "text": [
            "/content/gdrive/My Drive/Colab/Search_for_key_points_on_the_face\n"
          ]
        }
      ]
    },
    {
      "cell_type": "code",
      "metadata": {
        "colab": {
          "base_uri": "https://localhost:8080/"
        },
        "id": "1qjfwcJ3n5gb",
        "outputId": "84dbcda8-9aae-4e3b-8a80-d306a9ca6719"
      },
      "source": [
        "!pip install pretrainedmodels"
      ],
      "id": "1qjfwcJ3n5gb",
      "execution_count": 14,
      "outputs": [
        {
          "output_type": "stream",
          "name": "stdout",
          "text": [
            "Requirement already satisfied: pretrainedmodels in /usr/local/lib/python3.7/dist-packages (0.7.4)\n",
            "Requirement already satisfied: tqdm in /usr/local/lib/python3.7/dist-packages (from pretrainedmodels) (4.62.3)\n",
            "Requirement already satisfied: munch in /usr/local/lib/python3.7/dist-packages (from pretrainedmodels) (2.5.0)\n",
            "Requirement already satisfied: torch in /usr/local/lib/python3.7/dist-packages (from pretrainedmodels) (1.9.0+cu102)\n",
            "Requirement already satisfied: torchvision in /usr/local/lib/python3.7/dist-packages (from pretrainedmodels) (0.10.0+cu102)\n",
            "Requirement already satisfied: six in /usr/local/lib/python3.7/dist-packages (from munch->pretrainedmodels) (1.15.0)\n",
            "Requirement already satisfied: typing-extensions in /usr/local/lib/python3.7/dist-packages (from torch->pretrainedmodels) (3.7.4.3)\n",
            "Requirement already satisfied: numpy in /usr/local/lib/python3.7/dist-packages (from torchvision->pretrainedmodels) (1.19.5)\n",
            "Requirement already satisfied: pillow>=5.3.0 in /usr/local/lib/python3.7/dist-packages (from torchvision->pretrainedmodels) (7.1.2)\n"
          ]
        }
      ]
    },
    {
      "cell_type": "code",
      "metadata": {
        "colab": {
          "base_uri": "https://localhost:8080/"
        },
        "id": "066e2303",
        "outputId": "49ac49d3-c160-4f66-f074-97192c08e1a2"
      },
      "source": [
        "!jupyter nbconvert --to script config.ipynb\n",
        "!jupyter nbconvert --to script utils.ipynb\n",
        "!jupyter nbconvert --to script model.ipynb\n",
        "!jupyter nbconvert --to script dataset.ipynb"
      ],
      "id": "066e2303",
      "execution_count": 15,
      "outputs": [
        {
          "output_type": "stream",
          "name": "stdout",
          "text": [
            "[NbConvertApp] Converting notebook config.ipynb to script\n",
            "[NbConvertApp] Writing 428 bytes to config.py\n",
            "[NbConvertApp] Converting notebook utils.ipynb to script\n",
            "[NbConvertApp] Writing 2027 bytes to utils.py\n",
            "[NbConvertApp] Converting notebook model.ipynb to script\n",
            "[NbConvertApp] Writing 1367 bytes to model.py\n",
            "[NbConvertApp] Converting notebook dataset.ipynb to script\n",
            "[NbConvertApp] Writing 2889 bytes to dataset.py\n"
          ]
        }
      ]
    },
    {
      "cell_type": "code",
      "metadata": {
        "id": "21aee881"
      },
      "source": [
        "import torch\n",
        "import torch.optim as optim\n",
        "import matplotlib.pyplot as plt\n",
        "import torch.nn as nn\n",
        "import matplotlib\n",
        "import config\n",
        "import utils\n",
        "import dataset\n",
        "from model import FaceKeypointResNet50\n",
        "from dataset import train_data, train_loader, valid_data, valid_loader\n",
        "from tqdm import tqdm\n",
        "matplotlib.style.use('ggplot')\n",
        "\n",
        "import copy\n",
        "import os\n",
        "import time\n",
        "import numpy as np\n",
        "import pandas as pd\n",
        "import matplotlib.pyplot as plt\n",
        "import matplotlib.image as mpimg\n",
        "from skimage.io import imread\n",
        "import torch.nn as nn\n",
        "from PIL import Image\n",
        "import cv2\n",
        "from torch.utils.data import Dataset, DataLoader"
      ],
      "id": "21aee881",
      "execution_count": 16,
      "outputs": []
    },
    {
      "cell_type": "code",
      "metadata": {
        "id": "eaee191f",
        "colab": {
          "base_uri": "https://localhost:8080/"
        },
        "outputId": "464af29a-b27f-473e-8280-1f3c996cda63"
      },
      "source": [
        "key_pts_frame = pd.read_csv('train.csv')\n",
        "key_pts_frame.info()"
      ],
      "id": "eaee191f",
      "execution_count": null,
      "outputs": [
        {
          "output_type": "stream",
          "name": "stdout",
          "text": [
            "<class 'pandas.core.frame.DataFrame'>\n",
            "RangeIndex: 5000 entries, 0 to 4999\n",
            "Data columns (total 29 columns):\n",
            " #   Column    Non-Null Count  Dtype \n",
            "---  ------    --------------  ----- \n",
            " 0   filename  5000 non-null   object\n",
            " 1   x1        5000 non-null   int64 \n",
            " 2   y1        5000 non-null   int64 \n",
            " 3   x2        5000 non-null   int64 \n",
            " 4   y2        5000 non-null   int64 \n",
            " 5   x3        5000 non-null   int64 \n",
            " 6   y3        5000 non-null   int64 \n",
            " 7   x4        5000 non-null   int64 \n",
            " 8   y4        5000 non-null   int64 \n",
            " 9   x5        5000 non-null   int64 \n",
            " 10  y5        5000 non-null   int64 \n",
            " 11  x6        5000 non-null   int64 \n",
            " 12  y6        5000 non-null   int64 \n",
            " 13  x7        5000 non-null   int64 \n",
            " 14  y7        5000 non-null   int64 \n",
            " 15  x8        5000 non-null   int64 \n",
            " 16  y8        5000 non-null   int64 \n",
            " 17  x9        5000 non-null   int64 \n",
            " 18  y9        5000 non-null   int64 \n",
            " 19  x10       5000 non-null   int64 \n",
            " 20  y10       5000 non-null   int64 \n",
            " 21  x11       5000 non-null   int64 \n",
            " 22  y11       5000 non-null   int64 \n",
            " 23  x12       5000 non-null   int64 \n",
            " 24  y12       5000 non-null   int64 \n",
            " 25  x13       5000 non-null   int64 \n",
            " 26  y13       5000 non-null   int64 \n",
            " 27  x14       5000 non-null   int64 \n",
            " 28  y14       5000 non-null   int64 \n",
            "dtypes: int64(28), object(1)\n",
            "memory usage: 1.1+ MB\n"
          ]
        }
      ]
    },
    {
      "cell_type": "code",
      "metadata": {
        "id": "dc79ce8a",
        "colab": {
          "base_uri": "https://localhost:8080/",
          "height": 225
        },
        "outputId": "20dd5bc1-71ed-4c24-bd55-b6fae7a05908"
      },
      "source": [
        "key_pts_frame.head()"
      ],
      "id": "dc79ce8a",
      "execution_count": null,
      "outputs": [
        {
          "output_type": "execute_result",
          "data": {
            "text/html": [
              "<div>\n",
              "<style scoped>\n",
              "    .dataframe tbody tr th:only-of-type {\n",
              "        vertical-align: middle;\n",
              "    }\n",
              "\n",
              "    .dataframe tbody tr th {\n",
              "        vertical-align: top;\n",
              "    }\n",
              "\n",
              "    .dataframe thead th {\n",
              "        text-align: right;\n",
              "    }\n",
              "</style>\n",
              "<table border=\"1\" class=\"dataframe\">\n",
              "  <thead>\n",
              "    <tr style=\"text-align: right;\">\n",
              "      <th></th>\n",
              "      <th>filename</th>\n",
              "      <th>x1</th>\n",
              "      <th>y1</th>\n",
              "      <th>x2</th>\n",
              "      <th>y2</th>\n",
              "      <th>x3</th>\n",
              "      <th>y3</th>\n",
              "      <th>x4</th>\n",
              "      <th>y4</th>\n",
              "      <th>x5</th>\n",
              "      <th>y5</th>\n",
              "      <th>x6</th>\n",
              "      <th>y6</th>\n",
              "      <th>x7</th>\n",
              "      <th>y7</th>\n",
              "      <th>x8</th>\n",
              "      <th>y8</th>\n",
              "      <th>x9</th>\n",
              "      <th>y9</th>\n",
              "      <th>x10</th>\n",
              "      <th>y10</th>\n",
              "      <th>x11</th>\n",
              "      <th>y11</th>\n",
              "      <th>x12</th>\n",
              "      <th>y12</th>\n",
              "      <th>x13</th>\n",
              "      <th>y13</th>\n",
              "      <th>x14</th>\n",
              "      <th>y14</th>\n",
              "    </tr>\n",
              "  </thead>\n",
              "  <tbody>\n",
              "    <tr>\n",
              "      <th>0</th>\n",
              "      <td>05317.jpg</td>\n",
              "      <td>25</td>\n",
              "      <td>55</td>\n",
              "      <td>63</td>\n",
              "      <td>39</td>\n",
              "      <td>145</td>\n",
              "      <td>36</td>\n",
              "      <td>171</td>\n",
              "      <td>45</td>\n",
              "      <td>39</td>\n",
              "      <td>74</td>\n",
              "      <td>61</td>\n",
              "      <td>69</td>\n",
              "      <td>79</td>\n",
              "      <td>72</td>\n",
              "      <td>130</td>\n",
              "      <td>68</td>\n",
              "      <td>145</td>\n",
              "      <td>65</td>\n",
              "      <td>159</td>\n",
              "      <td>65</td>\n",
              "      <td>113</td>\n",
              "      <td>103</td>\n",
              "      <td>79</td>\n",
              "      <td>148</td>\n",
              "      <td>113</td>\n",
              "      <td>148</td>\n",
              "      <td>143</td>\n",
              "      <td>141</td>\n",
              "    </tr>\n",
              "    <tr>\n",
              "      <th>1</th>\n",
              "      <td>04767.jpg</td>\n",
              "      <td>17</td>\n",
              "      <td>32</td>\n",
              "      <td>39</td>\n",
              "      <td>27</td>\n",
              "      <td>56</td>\n",
              "      <td>22</td>\n",
              "      <td>81</td>\n",
              "      <td>16</td>\n",
              "      <td>20</td>\n",
              "      <td>39</td>\n",
              "      <td>32</td>\n",
              "      <td>39</td>\n",
              "      <td>43</td>\n",
              "      <td>41</td>\n",
              "      <td>66</td>\n",
              "      <td>33</td>\n",
              "      <td>73</td>\n",
              "      <td>29</td>\n",
              "      <td>86</td>\n",
              "      <td>28</td>\n",
              "      <td>56</td>\n",
              "      <td>66</td>\n",
              "      <td>45</td>\n",
              "      <td>80</td>\n",
              "      <td>59</td>\n",
              "      <td>80</td>\n",
              "      <td>74</td>\n",
              "      <td>76</td>\n",
              "    </tr>\n",
              "    <tr>\n",
              "      <th>2</th>\n",
              "      <td>05241.jpg</td>\n",
              "      <td>33</td>\n",
              "      <td>44</td>\n",
              "      <td>70</td>\n",
              "      <td>44</td>\n",
              "      <td>119</td>\n",
              "      <td>41</td>\n",
              "      <td>142</td>\n",
              "      <td>41</td>\n",
              "      <td>33</td>\n",
              "      <td>71</td>\n",
              "      <td>50</td>\n",
              "      <td>66</td>\n",
              "      <td>69</td>\n",
              "      <td>66</td>\n",
              "      <td>127</td>\n",
              "      <td>58</td>\n",
              "      <td>139</td>\n",
              "      <td>56</td>\n",
              "      <td>144</td>\n",
              "      <td>56</td>\n",
              "      <td>94</td>\n",
              "      <td>101</td>\n",
              "      <td>74</td>\n",
              "      <td>135</td>\n",
              "      <td>89</td>\n",
              "      <td>135</td>\n",
              "      <td>112</td>\n",
              "      <td>133</td>\n",
              "    </tr>\n",
              "    <tr>\n",
              "      <th>3</th>\n",
              "      <td>03849.jpg</td>\n",
              "      <td>96</td>\n",
              "      <td>157</td>\n",
              "      <td>222</td>\n",
              "      <td>143</td>\n",
              "      <td>389</td>\n",
              "      <td>129</td>\n",
              "      <td>517</td>\n",
              "      <td>125</td>\n",
              "      <td>153</td>\n",
              "      <td>210</td>\n",
              "      <td>203</td>\n",
              "      <td>198</td>\n",
              "      <td>249</td>\n",
              "      <td>210</td>\n",
              "      <td>380</td>\n",
              "      <td>196</td>\n",
              "      <td>425</td>\n",
              "      <td>181</td>\n",
              "      <td>467</td>\n",
              "      <td>188</td>\n",
              "      <td>328</td>\n",
              "      <td>339</td>\n",
              "      <td>241</td>\n",
              "      <td>451</td>\n",
              "      <td>335</td>\n",
              "      <td>453</td>\n",
              "      <td>419</td>\n",
              "      <td>441</td>\n",
              "    </tr>\n",
              "    <tr>\n",
              "      <th>4</th>\n",
              "      <td>00952.jpg</td>\n",
              "      <td>13</td>\n",
              "      <td>19</td>\n",
              "      <td>30</td>\n",
              "      <td>16</td>\n",
              "      <td>51</td>\n",
              "      <td>17</td>\n",
              "      <td>66</td>\n",
              "      <td>16</td>\n",
              "      <td>18</td>\n",
              "      <td>25</td>\n",
              "      <td>24</td>\n",
              "      <td>25</td>\n",
              "      <td>29</td>\n",
              "      <td>25</td>\n",
              "      <td>48</td>\n",
              "      <td>26</td>\n",
              "      <td>55</td>\n",
              "      <td>24</td>\n",
              "      <td>59</td>\n",
              "      <td>23</td>\n",
              "      <td>39</td>\n",
              "      <td>43</td>\n",
              "      <td>31</td>\n",
              "      <td>56</td>\n",
              "      <td>41</td>\n",
              "      <td>56</td>\n",
              "      <td>49</td>\n",
              "      <td>55</td>\n",
              "    </tr>\n",
              "  </tbody>\n",
              "</table>\n",
              "</div>"
            ],
            "text/plain": [
              "    filename  x1   y1   x2   y2   x3   y3  ...  y11  x12  y12  x13  y13  x14  y14\n",
              "0  05317.jpg  25   55   63   39  145   36  ...  103   79  148  113  148  143  141\n",
              "1  04767.jpg  17   32   39   27   56   22  ...   66   45   80   59   80   74   76\n",
              "2  05241.jpg  33   44   70   44  119   41  ...  101   74  135   89  135  112  133\n",
              "3  03849.jpg  96  157  222  143  389  129  ...  339  241  451  335  453  419  441\n",
              "4  00952.jpg  13   19   30   16   51   17  ...   43   31   56   41   56   49   55\n",
              "\n",
              "[5 rows x 29 columns]"
            ]
          },
          "metadata": {},
          "execution_count": 7
        }
      ]
    },
    {
      "cell_type": "code",
      "metadata": {
        "id": "b61d92a0",
        "colab": {
          "base_uri": "https://localhost:8080/",
          "height": 225
        },
        "outputId": "f11d3070-60c5-4243-92dd-90ee450b5e9b"
      },
      "source": [
        "key_pts_frame.head()"
      ],
      "id": "b61d92a0",
      "execution_count": null,
      "outputs": [
        {
          "output_type": "execute_result",
          "data": {
            "text/html": [
              "<div>\n",
              "<style scoped>\n",
              "    .dataframe tbody tr th:only-of-type {\n",
              "        vertical-align: middle;\n",
              "    }\n",
              "\n",
              "    .dataframe tbody tr th {\n",
              "        vertical-align: top;\n",
              "    }\n",
              "\n",
              "    .dataframe thead th {\n",
              "        text-align: right;\n",
              "    }\n",
              "</style>\n",
              "<table border=\"1\" class=\"dataframe\">\n",
              "  <thead>\n",
              "    <tr style=\"text-align: right;\">\n",
              "      <th></th>\n",
              "      <th>filename</th>\n",
              "      <th>x1</th>\n",
              "      <th>y1</th>\n",
              "      <th>x2</th>\n",
              "      <th>y2</th>\n",
              "      <th>x3</th>\n",
              "      <th>y3</th>\n",
              "      <th>x4</th>\n",
              "      <th>y4</th>\n",
              "      <th>x5</th>\n",
              "      <th>y5</th>\n",
              "      <th>x6</th>\n",
              "      <th>y6</th>\n",
              "      <th>x7</th>\n",
              "      <th>y7</th>\n",
              "      <th>x8</th>\n",
              "      <th>y8</th>\n",
              "      <th>x9</th>\n",
              "      <th>y9</th>\n",
              "      <th>x10</th>\n",
              "      <th>y10</th>\n",
              "      <th>x11</th>\n",
              "      <th>y11</th>\n",
              "      <th>x12</th>\n",
              "      <th>y12</th>\n",
              "      <th>x13</th>\n",
              "      <th>y13</th>\n",
              "      <th>x14</th>\n",
              "      <th>y14</th>\n",
              "    </tr>\n",
              "  </thead>\n",
              "  <tbody>\n",
              "    <tr>\n",
              "      <th>0</th>\n",
              "      <td>05317.jpg</td>\n",
              "      <td>25</td>\n",
              "      <td>55</td>\n",
              "      <td>63</td>\n",
              "      <td>39</td>\n",
              "      <td>145</td>\n",
              "      <td>36</td>\n",
              "      <td>171</td>\n",
              "      <td>45</td>\n",
              "      <td>39</td>\n",
              "      <td>74</td>\n",
              "      <td>61</td>\n",
              "      <td>69</td>\n",
              "      <td>79</td>\n",
              "      <td>72</td>\n",
              "      <td>130</td>\n",
              "      <td>68</td>\n",
              "      <td>145</td>\n",
              "      <td>65</td>\n",
              "      <td>159</td>\n",
              "      <td>65</td>\n",
              "      <td>113</td>\n",
              "      <td>103</td>\n",
              "      <td>79</td>\n",
              "      <td>148</td>\n",
              "      <td>113</td>\n",
              "      <td>148</td>\n",
              "      <td>143</td>\n",
              "      <td>141</td>\n",
              "    </tr>\n",
              "    <tr>\n",
              "      <th>1</th>\n",
              "      <td>04767.jpg</td>\n",
              "      <td>17</td>\n",
              "      <td>32</td>\n",
              "      <td>39</td>\n",
              "      <td>27</td>\n",
              "      <td>56</td>\n",
              "      <td>22</td>\n",
              "      <td>81</td>\n",
              "      <td>16</td>\n",
              "      <td>20</td>\n",
              "      <td>39</td>\n",
              "      <td>32</td>\n",
              "      <td>39</td>\n",
              "      <td>43</td>\n",
              "      <td>41</td>\n",
              "      <td>66</td>\n",
              "      <td>33</td>\n",
              "      <td>73</td>\n",
              "      <td>29</td>\n",
              "      <td>86</td>\n",
              "      <td>28</td>\n",
              "      <td>56</td>\n",
              "      <td>66</td>\n",
              "      <td>45</td>\n",
              "      <td>80</td>\n",
              "      <td>59</td>\n",
              "      <td>80</td>\n",
              "      <td>74</td>\n",
              "      <td>76</td>\n",
              "    </tr>\n",
              "    <tr>\n",
              "      <th>2</th>\n",
              "      <td>05241.jpg</td>\n",
              "      <td>33</td>\n",
              "      <td>44</td>\n",
              "      <td>70</td>\n",
              "      <td>44</td>\n",
              "      <td>119</td>\n",
              "      <td>41</td>\n",
              "      <td>142</td>\n",
              "      <td>41</td>\n",
              "      <td>33</td>\n",
              "      <td>71</td>\n",
              "      <td>50</td>\n",
              "      <td>66</td>\n",
              "      <td>69</td>\n",
              "      <td>66</td>\n",
              "      <td>127</td>\n",
              "      <td>58</td>\n",
              "      <td>139</td>\n",
              "      <td>56</td>\n",
              "      <td>144</td>\n",
              "      <td>56</td>\n",
              "      <td>94</td>\n",
              "      <td>101</td>\n",
              "      <td>74</td>\n",
              "      <td>135</td>\n",
              "      <td>89</td>\n",
              "      <td>135</td>\n",
              "      <td>112</td>\n",
              "      <td>133</td>\n",
              "    </tr>\n",
              "    <tr>\n",
              "      <th>3</th>\n",
              "      <td>03849.jpg</td>\n",
              "      <td>96</td>\n",
              "      <td>157</td>\n",
              "      <td>222</td>\n",
              "      <td>143</td>\n",
              "      <td>389</td>\n",
              "      <td>129</td>\n",
              "      <td>517</td>\n",
              "      <td>125</td>\n",
              "      <td>153</td>\n",
              "      <td>210</td>\n",
              "      <td>203</td>\n",
              "      <td>198</td>\n",
              "      <td>249</td>\n",
              "      <td>210</td>\n",
              "      <td>380</td>\n",
              "      <td>196</td>\n",
              "      <td>425</td>\n",
              "      <td>181</td>\n",
              "      <td>467</td>\n",
              "      <td>188</td>\n",
              "      <td>328</td>\n",
              "      <td>339</td>\n",
              "      <td>241</td>\n",
              "      <td>451</td>\n",
              "      <td>335</td>\n",
              "      <td>453</td>\n",
              "      <td>419</td>\n",
              "      <td>441</td>\n",
              "    </tr>\n",
              "    <tr>\n",
              "      <th>4</th>\n",
              "      <td>00952.jpg</td>\n",
              "      <td>13</td>\n",
              "      <td>19</td>\n",
              "      <td>30</td>\n",
              "      <td>16</td>\n",
              "      <td>51</td>\n",
              "      <td>17</td>\n",
              "      <td>66</td>\n",
              "      <td>16</td>\n",
              "      <td>18</td>\n",
              "      <td>25</td>\n",
              "      <td>24</td>\n",
              "      <td>25</td>\n",
              "      <td>29</td>\n",
              "      <td>25</td>\n",
              "      <td>48</td>\n",
              "      <td>26</td>\n",
              "      <td>55</td>\n",
              "      <td>24</td>\n",
              "      <td>59</td>\n",
              "      <td>23</td>\n",
              "      <td>39</td>\n",
              "      <td>43</td>\n",
              "      <td>31</td>\n",
              "      <td>56</td>\n",
              "      <td>41</td>\n",
              "      <td>56</td>\n",
              "      <td>49</td>\n",
              "      <td>55</td>\n",
              "    </tr>\n",
              "  </tbody>\n",
              "</table>\n",
              "</div>"
            ],
            "text/plain": [
              "    filename  x1   y1   x2   y2   x3   y3  ...  y11  x12  y12  x13  y13  x14  y14\n",
              "0  05317.jpg  25   55   63   39  145   36  ...  103   79  148  113  148  143  141\n",
              "1  04767.jpg  17   32   39   27   56   22  ...   66   45   80   59   80   74   76\n",
              "2  05241.jpg  33   44   70   44  119   41  ...  101   74  135   89  135  112  133\n",
              "3  03849.jpg  96  157  222  143  389  129  ...  339  241  451  335  453  419  441\n",
              "4  00952.jpg  13   19   30   16   51   17  ...   43   31   56   41   56   49   55\n",
              "\n",
              "[5 rows x 29 columns]"
            ]
          },
          "metadata": {},
          "execution_count": 8
        }
      ]
    },
    {
      "cell_type": "code",
      "metadata": {
        "id": "ed693cf0",
        "colab": {
          "base_uri": "https://localhost:8080/"
        },
        "outputId": "5083595b-7c44-43f5-cc3f-bed84d941f61"
      },
      "source": [
        "n = 0\n",
        "image_name = key_pts_frame.iloc[n, 0]\n",
        "key_pts = key_pts_frame.iloc[n, 1:].values\n",
        "key_pts = key_pts.astype('float').reshape(-1, 2)\n",
        "\n",
        "print('Image name: ', image_name)\n",
        "print('Landmarks shape: ', key_pts.shape)\n",
        "print('First 4 key pts: {}'.format(key_pts[:4]))"
      ],
      "id": "ed693cf0",
      "execution_count": null,
      "outputs": [
        {
          "output_type": "stream",
          "name": "stdout",
          "text": [
            "Image name:  05317.jpg\n",
            "Landmarks shape:  (14, 2)\n",
            "First 4 key pts: [[ 25.  55.]\n",
            " [ 63.  39.]\n",
            " [145.  36.]\n",
            " [171.  45.]]\n"
          ]
        }
      ]
    },
    {
      "cell_type": "code",
      "metadata": {
        "id": "b7fdb449"
      },
      "source": [
        "def show_keypoints(image, key_pts):\n",
        "    \"\"\"Show image with keypoints\"\"\"\n",
        "    plt.imshow(image)\n",
        "    plt.scatter(key_pts[:, 0], key_pts[:, 1], s=20, marker='.', c='m')"
      ],
      "id": "b7fdb449",
      "execution_count": null,
      "outputs": []
    },
    {
      "cell_type": "code",
      "metadata": {
        "id": "23c4a9ed",
        "colab": {
          "base_uri": "https://localhost:8080/",
          "height": 269
        },
        "outputId": "bf603f43-60a4-44d5-98c3-6a5381e1ab4c"
      },
      "source": [
        "img=imread(os.path.join('train', key_pts_frame['filename'][123]))\n",
        "plt.imshow(img)\n",
        "plt.show()"
      ],
      "id": "23c4a9ed",
      "execution_count": null,
      "outputs": [
        {
          "output_type": "display_data",
          "data": {
            "image/png": "[encoded data removed]",
            "text/plain": [
              "<Figure size 432x288 with 1 Axes>"
            ]
          },
          "metadata": {}
        }
      ]
    },
    {
      "cell_type": "code",
      "metadata": {
        "id": "14816112",
        "colab": {
          "base_uri": "https://localhost:8080/",
          "height": 323
        },
        "outputId": "5c5157a8-4a75-41f0-ca99-dcd0d1057ba3"
      },
      "source": [
        "n = 123\n",
        "key_pts = key_pts_frame.iloc[n, 1:].values\n",
        "key_pts = key_pts.astype('float').reshape(-1, 2)\n",
        "\n",
        "plt.figure(figsize=(5, 5))\n",
        "\n",
        "show_keypoints(imread(os.path.join('train', key_pts_frame['filename'][n])), key_pts)"
      ],
      "id": "14816112",
      "execution_count": null,
      "outputs": [
        {
          "output_type": "display_data",
          "data": {
            "image/png": "[encoded data removed]",
            "text/plain": [
              "<Figure size 360x360 with 1 Axes>"
            ]
          },
          "metadata": {}
        }
      ]
    },
    {
      "cell_type": "code",
      "metadata": {
        "id": "f4067624",
        "colab": {
          "base_uri": "https://localhost:8080/"
        },
        "outputId": "44d6c6da-4a69-4dd3-93e9-67dd56e3de07"
      },
      "source": [
        "# model \n",
        "model = FaceKeypointResNet50(pretrained=True, requires_grad=True).to(config.DEVICE)\n",
        "# optimizer\n",
        "optimizer = optim.Adam(model.parameters(), lr=config.LR)\n",
        "# we need a loss function MSELoss\n",
        "criterion = nn.MSELoss()"
      ],
      "id": "f4067624",
      "execution_count": 17,
      "outputs": [
        {
          "output_type": "stream",
          "name": "stdout",
          "text": [
            "Training intermediate layer parameters...\n"
          ]
        }
      ]
    },
    {
      "cell_type": "code",
      "metadata": {
        "id": "4XDBvYM3oirc"
      },
      "source": [
        "model.l0 = nn.Linear(2048, 28)"
      ],
      "id": "4XDBvYM3oirc",
      "execution_count": 18,
      "outputs": []
    },
    {
      "cell_type": "code",
      "metadata": {
        "id": "SHM9AbWuC__b"
      },
      "source": [
        "# training function\n",
        "def fit(model, dataloader, data):\n",
        "  print('Training')\n",
        "  model.train()\n",
        "  train_running_loss = 0.0\n",
        "  counter = 0\n",
        "  # calculate the number of batches\n",
        "  num_batches = int(len(data)/dataloader.batch_size)\n",
        "  for i, data in tqdm(enumerate(dataloader), total=num_batches):\n",
        "      counter += 1\n",
        "      image, keypoints = data['image'].to(config.DEVICE), data['keypoints'].to(config.DEVICE)\n",
        "      # flatten the keypoints\n",
        "      keypoints = keypoints.view(keypoints.size(0), -1)\n",
        "      optimizer.zero_grad()\n",
        "      outputs = model(image)\n",
        "      loss = criterion(outputs, keypoints)\n",
        "      train_running_loss += loss.item()\n",
        "      loss.backward()\n",
        "      optimizer.step()\n",
        "      \n",
        "  train_loss = train_running_loss/counter\n",
        "  return train_loss\n"
      ],
      "id": "SHM9AbWuC__b",
      "execution_count": 19,
      "outputs": []
    },
    {
      "cell_type": "code",
      "metadata": {
        "id": "ntJH8L_8C_z-"
      },
      "source": [
        "# validation function\n",
        "def validate(model, dataloader, data, epoch):\n",
        "  print('Validating')\n",
        "  model.eval()\n",
        "  valid_running_loss = 0.0\n",
        "  counter = 0\n",
        "  # calculate the number of batches\n",
        "  num_batches = int(len(data)/dataloader.batch_size)\n",
        "  with torch.no_grad():\n",
        "      for i, data in tqdm(enumerate(dataloader), total=num_batches):\n",
        "          counter += 1\n",
        "          image, keypoints = data['image'].to(config.DEVICE), data['keypoints'].to(config.DEVICE)\n",
        "          # flatten the keypoints\n",
        "          keypoints = keypoints.view(keypoints.size(0), -1)\n",
        "          outputs = model(image)\n",
        "          loss = criterion(outputs, keypoints)\n",
        "          valid_running_loss += loss.item()\n",
        "          # plot the predicted validation keypoints after every...\n",
        "          # ... predefined number of epochs\n",
        "          if (epoch+1) % 1 == 0 and i == 0:\n",
        "              utils.valid_keypoints_plot(image, outputs, keypoints, epoch)\n",
        "      \n",
        "  valid_loss = valid_running_loss/counter\n",
        "  return valid_loss"
      ],
      "id": "ntJH8L_8C_z-",
      "execution_count": 20,
      "outputs": []
    },
    {
      "cell_type": "code",
      "metadata": {
        "colab": {
          "base_uri": "https://localhost:8080/"
        },
        "id": "okLIte5UFOXg",
        "outputId": "2f6657b8-d043-4636-91d9-aec0df63ae1d"
      },
      "source": [
        "train_loss = []\n",
        "val_loss = []\n",
        "for epoch in range(config.EPOCHS):\n",
        "    print(f\"Epoch {epoch+1} of {config.EPOCHS}\")\n",
        "    train_epoch_loss = fit(model, train_loader, train_data)\n",
        "    val_epoch_loss = validate(model, valid_loader, valid_data, epoch)\n",
        "    train_loss.append(train_epoch_loss)\n",
        "    val_loss.append(val_epoch_loss)\n",
        "    print(f\"Train Loss: {train_epoch_loss:.4f}\")\n",
        "    print(f'Val Loss: {val_epoch_loss:.4f}')\n",
        "\n",
        "torch.save({\n",
        "            'epoch': config.EPOCHS,\n",
        "            'model_state_dict': model.state_dict(),\n",
        "            'optimizer_state_dict': optimizer.state_dict(),\n",
        "            'loss': criterion,\n",
        "            }, f\"{config.OUTPUT_PATH}/model.pth\")\n",
        "print('DONE TRAINING')\n",
        "\n",
        "  "
      ],
      "id": "okLIte5UFOXg",
      "execution_count": null,
      "outputs": [
        {
          "output_type": "stream",
          "name": "stdout",
          "text": [
            "Epoch 1 of 20\n",
            "Training\n"
          ]
        },
        {
          "output_type": "stream",
          "name": "stderr",
          "text": [
            "\r  0%|          | 0/140 [00:00<?, ?it/s]/usr/local/lib/python3.7/dist-packages/torch/nn/functional.py:718: UserWarning: Named tensors and all their associated APIs are an experimental feature and subject to change. Please do not use them for anything important until they are released as stable. (Triggered internally at  /pytorch/c10/core/TensorImpl.h:1156.)\n",
            "  return torch.max_pool2d(input, kernel_size, stride, padding, dilation, ceil_mode)\n",
            "141it [1:09:05, 29.40s/it]\n"
          ]
        },
        {
          "output_type": "stream",
          "name": "stdout",
          "text": [
            "Validating\n"
          ]
        },
        {
          "output_type": "stream",
          "name": "stderr",
          "text": [
            "16it [03:27, 12.94s/it]\n"
          ]
        },
        {
          "output_type": "stream",
          "name": "stdout",
          "text": [
            "Train Loss: 11162.2629\n",
            "Val Loss: 10992.3990\n",
            "Epoch 2 of 20\n",
            "Training\n"
          ]
        },
        {
          "output_type": "stream",
          "name": "stderr",
          "text": [
            "141it [51:02, 21.72s/it]\n"
          ]
        },
        {
          "output_type": "stream",
          "name": "stdout",
          "text": [
            "Validating\n"
          ]
        },
        {
          "output_type": "stream",
          "name": "stderr",
          "text": [
            "16it [01:34,  5.92s/it]\n"
          ]
        },
        {
          "output_type": "stream",
          "name": "stdout",
          "text": [
            "Train Loss: 10893.0895\n",
            "Val Loss: 10841.6439\n",
            "Epoch 3 of 20\n",
            "Training\n"
          ]
        },
        {
          "output_type": "stream",
          "name": "stderr",
          "text": [
            "141it [51:39, 21.98s/it]\n"
          ]
        },
        {
          "output_type": "stream",
          "name": "stdout",
          "text": [
            "Validating\n"
          ]
        },
        {
          "output_type": "stream",
          "name": "stderr",
          "text": [
            "16it [01:35,  5.98s/it]\n"
          ]
        },
        {
          "output_type": "stream",
          "name": "stdout",
          "text": [
            "Train Loss: 10593.3865\n",
            "Val Loss: 10488.3840\n",
            "Epoch 4 of 20\n",
            "Training\n"
          ]
        },
        {
          "output_type": "stream",
          "name": "stderr",
          "text": [
            "141it [51:39, 21.98s/it]\n"
          ]
        },
        {
          "output_type": "stream",
          "name": "stdout",
          "text": [
            "Validating\n"
          ]
        },
        {
          "output_type": "stream",
          "name": "stderr",
          "text": [
            "16it [01:37,  6.07s/it]\n"
          ]
        },
        {
          "output_type": "stream",
          "name": "stdout",
          "text": [
            "Train Loss: 10294.9548\n",
            "Val Loss: 10173.6645\n",
            "Epoch 5 of 20\n",
            "Training\n"
          ]
        },
        {
          "output_type": "stream",
          "name": "stderr",
          "text": [
            "141it [51:35, 21.95s/it]\n"
          ]
        },
        {
          "output_type": "stream",
          "name": "stdout",
          "text": [
            "Validating\n"
          ]
        },
        {
          "output_type": "stream",
          "name": "stderr",
          "text": [
            "16it [01:35,  5.98s/it]\n"
          ]
        },
        {
          "output_type": "stream",
          "name": "stdout",
          "text": [
            "Train Loss: 10012.8543\n",
            "Val Loss: 9838.2069\n",
            "Epoch 6 of 20\n",
            "Training\n"
          ]
        },
        {
          "output_type": "stream",
          "name": "stderr",
          "text": [
            "141it [52:02, 22.14s/it]\n"
          ]
        },
        {
          "output_type": "stream",
          "name": "stdout",
          "text": [
            "Validating\n"
          ]
        },
        {
          "output_type": "stream",
          "name": "stderr",
          "text": [
            "16it [01:36,  6.01s/it]\n"
          ]
        },
        {
          "output_type": "stream",
          "name": "stdout",
          "text": [
            "Train Loss: 9746.8403\n",
            "Val Loss: 9613.4161\n",
            "Epoch 7 of 20\n",
            "Training\n"
          ]
        },
        {
          "output_type": "stream",
          "name": "stderr",
          "text": [
            "141it [51:48, 22.05s/it]\n"
          ]
        },
        {
          "output_type": "stream",
          "name": "stdout",
          "text": [
            "Validating\n"
          ]
        },
        {
          "output_type": "stream",
          "name": "stderr",
          "text": [
            "16it [01:36,  6.02s/it]\n"
          ]
        },
        {
          "output_type": "stream",
          "name": "stdout",
          "text": [
            "Train Loss: 9490.8737\n",
            "Val Loss: 9282.1270\n",
            "Epoch 8 of 20\n",
            "Training\n"
          ]
        },
        {
          "output_type": "stream",
          "name": "stderr",
          "text": [
            "141it [52:08, 22.18s/it]\n"
          ]
        },
        {
          "output_type": "stream",
          "name": "stdout",
          "text": [
            "Validating\n"
          ]
        },
        {
          "output_type": "stream",
          "name": "stderr",
          "text": [
            "16it [01:37,  6.08s/it]\n"
          ]
        },
        {
          "output_type": "stream",
          "name": "stdout",
          "text": [
            "Train Loss: 9240.5905\n",
            "Val Loss: 9088.8398\n",
            "Epoch 9 of 20\n",
            "Training\n"
          ]
        },
        {
          "output_type": "stream",
          "name": "stderr",
          "text": [
            "141it [52:09, 22.19s/it]\n"
          ]
        },
        {
          "output_type": "stream",
          "name": "stdout",
          "text": [
            "Validating\n"
          ]
        },
        {
          "output_type": "stream",
          "name": "stderr",
          "text": [
            "16it [01:36,  6.03s/it]\n"
          ]
        },
        {
          "output_type": "stream",
          "name": "stdout",
          "text": [
            "Train Loss: 8998.5263\n",
            "Val Loss: 8909.4197\n",
            "Epoch 10 of 20\n",
            "Training\n"
          ]
        },
        {
          "output_type": "stream",
          "name": "stderr",
          "text": [
            "141it [51:51, 22.07s/it]\n"
          ]
        },
        {
          "output_type": "stream",
          "name": "stdout",
          "text": [
            "Validating\n"
          ]
        },
        {
          "output_type": "stream",
          "name": "stderr",
          "text": [
            "16it [01:35,  5.95s/it]\n"
          ]
        },
        {
          "output_type": "stream",
          "name": "stdout",
          "text": [
            "Train Loss: 8760.5915\n",
            "Val Loss: 8687.4186\n",
            "Epoch 11 of 20\n",
            "Training\n"
          ]
        },
        {
          "output_type": "stream",
          "name": "stderr",
          "text": [
            "141it [51:55, 22.10s/it]\n"
          ]
        },
        {
          "output_type": "stream",
          "name": "stdout",
          "text": [
            "Validating\n"
          ]
        },
        {
          "output_type": "stream",
          "name": "stderr",
          "text": [
            "16it [01:35,  5.95s/it]\n"
          ]
        },
        {
          "output_type": "stream",
          "name": "stdout",
          "text": [
            "Train Loss: 8528.9393\n",
            "Val Loss: 8500.4015\n",
            "Epoch 12 of 20\n",
            "Training\n"
          ]
        },
        {
          "output_type": "stream",
          "name": "stderr",
          "text": [
            "141it [51:48, 22.05s/it]\n"
          ]
        },
        {
          "output_type": "stream",
          "name": "stdout",
          "text": [
            "Validating\n"
          ]
        },
        {
          "output_type": "stream",
          "name": "stderr",
          "text": [
            "16it [01:34,  5.93s/it]\n"
          ]
        },
        {
          "output_type": "stream",
          "name": "stdout",
          "text": [
            "Train Loss: 8301.8986\n",
            "Val Loss: 8019.4107\n",
            "Epoch 13 of 20\n",
            "Training\n"
          ]
        },
        {
          "output_type": "stream",
          "name": "stderr",
          "text": [
            "141it [52:22, 22.29s/it]\n"
          ]
        },
        {
          "output_type": "stream",
          "name": "stdout",
          "text": [
            "Validating\n"
          ]
        },
        {
          "output_type": "stream",
          "name": "stderr",
          "text": [
            "16it [01:34,  5.93s/it]\n"
          ]
        },
        {
          "output_type": "stream",
          "name": "stdout",
          "text": [
            "Train Loss: 8081.2938\n",
            "Val Loss: 7845.5889\n",
            "Epoch 14 of 20\n",
            "Training\n"
          ]
        },
        {
          "output_type": "stream",
          "name": "stderr",
          "text": [
            "141it [52:45, 22.45s/it]\n"
          ]
        },
        {
          "output_type": "stream",
          "name": "stdout",
          "text": [
            "Validating\n"
          ]
        },
        {
          "output_type": "stream",
          "name": "stderr",
          "text": [
            "16it [01:35,  5.96s/it]\n"
          ]
        },
        {
          "output_type": "stream",
          "name": "stdout",
          "text": [
            "Train Loss: 7863.7506\n",
            "Val Loss: 7765.0911\n",
            "Epoch 15 of 20\n",
            "Training\n"
          ]
        },
        {
          "output_type": "stream",
          "name": "stderr",
          "text": [
            "141it [51:47, 22.04s/it]\n"
          ]
        },
        {
          "output_type": "stream",
          "name": "stdout",
          "text": [
            "Validating\n"
          ]
        },
        {
          "output_type": "stream",
          "name": "stderr",
          "text": [
            "16it [01:34,  5.93s/it]\n"
          ]
        },
        {
          "output_type": "stream",
          "name": "stdout",
          "text": [
            "Train Loss: 7648.5741\n",
            "Val Loss: 7501.4405\n",
            "Epoch 16 of 20\n",
            "Training\n"
          ]
        },
        {
          "output_type": "stream",
          "name": "stderr",
          "text": [
            "141it [52:04, 22.16s/it]\n"
          ]
        },
        {
          "output_type": "stream",
          "name": "stdout",
          "text": [
            "Validating\n"
          ]
        },
        {
          "output_type": "stream",
          "name": "stderr",
          "text": [
            "16it [01:34,  5.93s/it]\n"
          ]
        },
        {
          "output_type": "stream",
          "name": "stdout",
          "text": [
            "Train Loss: 7438.0852\n",
            "Val Loss: 7302.2370\n",
            "Epoch 17 of 20\n",
            "Training\n"
          ]
        },
        {
          "output_type": "stream",
          "name": "stderr",
          "text": [
            "141it [52:35, 22.38s/it]\n"
          ]
        },
        {
          "output_type": "stream",
          "name": "stdout",
          "text": [
            "Validating\n"
          ]
        },
        {
          "output_type": "stream",
          "name": "stderr",
          "text": [
            "16it [01:36,  6.06s/it]\n"
          ]
        },
        {
          "output_type": "stream",
          "name": "stdout",
          "text": [
            "Train Loss: 7233.3868\n",
            "Val Loss: 7133.9842\n",
            "Epoch 18 of 20\n",
            "Training\n"
          ]
        },
        {
          "output_type": "stream",
          "name": "stderr",
          "text": [
            "141it [52:22, 22.29s/it]\n"
          ]
        },
        {
          "output_type": "stream",
          "name": "stdout",
          "text": [
            "Validating\n"
          ]
        },
        {
          "output_type": "stream",
          "name": "stderr",
          "text": [
            "16it [01:36,  6.00s/it]\n"
          ]
        },
        {
          "output_type": "stream",
          "name": "stdout",
          "text": [
            "Train Loss: 7027.4049\n",
            "Val Loss: 6773.4127\n",
            "Epoch 19 of 20\n",
            "Training\n"
          ]
        },
        {
          "output_type": "stream",
          "name": "stderr",
          "text": [
            "141it [52:34, 22.38s/it]\n"
          ]
        },
        {
          "output_type": "stream",
          "name": "stdout",
          "text": [
            "Validating\n"
          ]
        },
        {
          "output_type": "stream",
          "name": "stderr",
          "text": [
            "16it [01:36,  6.01s/it]\n"
          ]
        },
        {
          "output_type": "stream",
          "name": "stdout",
          "text": [
            "Train Loss: 6795.6854\n",
            "Val Loss: 6715.6602\n",
            "Epoch 20 of 20\n",
            "Training\n"
          ]
        },
        {
          "output_type": "stream",
          "name": "stderr",
          "text": [
            "141it [52:21, 22.28s/it]\n"
          ]
        },
        {
          "output_type": "stream",
          "name": "stdout",
          "text": [
            "Validating\n"
          ]
        },
        {
          "output_type": "stream",
          "name": "stderr",
          "text": [
            "16it [01:35,  5.98s/it]\n"
          ]
        },
        {
          "output_type": "stream",
          "name": "stdout",
          "text": [
            "Train Loss: 6593.8793\n",
            "Val Loss: 6494.4505\n",
            "DONE TRAINING\n"
          ]
        }
      ]
    },
    {
      "cell_type": "code",
      "metadata": {
        "id": "eNR1QgPthjmv"
      },
      "source": [
        "torch.save({\n",
        "            'epoch': config.EPOCHS,\n",
        "            'model_state_dict': model.state_dict(),\n",
        "            'optimizer_state_dict': optimizer.state_dict(),\n",
        "            'loss': criterion,\n",
        "            }, f\"{config.OUTPUT_PATH}/model.pth\")\n",
        "print('DONE TRAINING')"
      ],
      "id": "eNR1QgPthjmv",
      "execution_count": null,
      "outputs": []
    },
    {
      "cell_type": "code",
      "metadata": {
        "colab": {
          "base_uri": "https://localhost:8080/"
        },
        "id": "G8_eFfzgho-m",
        "outputId": "c7023869-fcc6-4328-ab59-122d95e4cb22"
      },
      "source": [
        "# loss plots\n",
        "plt.figure(figsize=(10, 7))\n",
        "plt.plot(train_loss, color='orange', label='train loss')\n",
        "plt.plot(val_loss, color='red', label='validataion loss')\n",
        "plt.xlabel('Epochs')\n",
        "plt.ylabel('Loss')\n",
        "plt.legend()\n",
        "plt.savefig(f\"{config.OUTPUT_PATH}/loss.png\")\n",
        "plt.show()"
      ],
      "id": "G8_eFfzgho-m",
      "execution_count": null,
      "outputs": [
        {
          "output_type": "display_data",
          "data": {
            "image/png": "[encoded data removed]",
            "text/plain": [
              "<Figure size 720x504 with 1 Axes>"
            ]
          },
          "metadata": {}
        }
      ]
    },
    {
      "cell_type": "code",
      "metadata": {
        "colab": {
          "base_uri": "https://localhost:8080/"
        },
        "id": "PQcUFsI4q4Zv",
        "outputId": "875ea1fd-458f-4fb0-ecaf-3e11d63cdab9"
      },
      "source": [
        "checkpoint = torch.load('outputs/model.pth')\n",
        "# load model weights state_dict\n",
        "model.load_state_dict(checkpoint['model_state_dict'])\n",
        "model.eval()"
      ],
      "id": "PQcUFsI4q4Zv",
      "execution_count": 24,
      "outputs": [
        {
          "output_type": "execute_result",
          "data": {
            "text/plain": [
              "FaceKeypointResNet50(\n",
              "  (model): ResNet(\n",
              "    (conv1): Conv2d(3, 64, kernel_size=(7, 7), stride=(2, 2), padding=(3, 3), bias=False)\n",
              "    (bn1): BatchNorm2d(64, eps=1e-05, momentum=0.1, affine=True, track_running_stats=True)\n",
              "    (relu): ReLU(inplace=True)\n",
              "    (maxpool): MaxPool2d(kernel_size=3, stride=2, padding=1, dilation=1, ceil_mode=False)\n",
              "    (layer1): Sequential(\n",
              "      (0): Bottleneck(\n",
              "        (conv1): Conv2d(64, 64, kernel_size=(1, 1), stride=(1, 1), bias=False)\n",
              "        (bn1): BatchNorm2d(64, eps=1e-05, momentum=0.1, affine=True, track_running_stats=True)\n",
              "        (conv2): Conv2d(64, 64, kernel_size=(3, 3), stride=(1, 1), padding=(1, 1), bias=False)\n",
              "        (bn2): BatchNorm2d(64, eps=1e-05, momentum=0.1, affine=True, track_running_stats=True)\n",
              "        (conv3): Conv2d(64, 256, kernel_size=(1, 1), stride=(1, 1), bias=False)\n",
              "        (bn3): BatchNorm2d(256, eps=1e-05, momentum=0.1, affine=True, track_running_stats=True)\n",
              "        (relu): ReLU(inplace=True)\n",
              "        (downsample): Sequential(\n",
              "          (0): Conv2d(64, 256, kernel_size=(1, 1), stride=(1, 1), bias=False)\n",
              "          (1): BatchNorm2d(256, eps=1e-05, momentum=0.1, affine=True, track_running_stats=True)\n",
              "        )\n",
              "      )\n",
              "      (1): Bottleneck(\n",
              "        (conv1): Conv2d(256, 64, kernel_size=(1, 1), stride=(1, 1), bias=False)\n",
              "        (bn1): BatchNorm2d(64, eps=1e-05, momentum=0.1, affine=True, track_running_stats=True)\n",
              "        (conv2): Conv2d(64, 64, kernel_size=(3, 3), stride=(1, 1), padding=(1, 1), bias=False)\n",
              "        (bn2): BatchNorm2d(64, eps=1e-05, momentum=0.1, affine=True, track_running_stats=True)\n",
              "        (conv3): Conv2d(64, 256, kernel_size=(1, 1), stride=(1, 1), bias=False)\n",
              "        (bn3): BatchNorm2d(256, eps=1e-05, momentum=0.1, affine=True, track_running_stats=True)\n",
              "        (relu): ReLU(inplace=True)\n",
              "      )\n",
              "      (2): Bottleneck(\n",
              "        (conv1): Conv2d(256, 64, kernel_size=(1, 1), stride=(1, 1), bias=False)\n",
              "        (bn1): BatchNorm2d(64, eps=1e-05, momentum=0.1, affine=True, track_running_stats=True)\n",
              "        (conv2): Conv2d(64, 64, kernel_size=(3, 3), stride=(1, 1), padding=(1, 1), bias=False)\n",
              "        (bn2): BatchNorm2d(64, eps=1e-05, momentum=0.1, affine=True, track_running_stats=True)\n",
              "        (conv3): Conv2d(64, 256, kernel_size=(1, 1), stride=(1, 1), bias=False)\n",
              "        (bn3): BatchNorm2d(256, eps=1e-05, momentum=0.1, affine=True, track_running_stats=True)\n",
              "        (relu): ReLU(inplace=True)\n",
              "      )\n",
              "    )\n",
              "    (layer2): Sequential(\n",
              "      (0): Bottleneck(\n",
              "        (conv1): Conv2d(256, 128, kernel_size=(1, 1), stride=(1, 1), bias=False)\n",
              "        (bn1): BatchNorm2d(128, eps=1e-05, momentum=0.1, affine=True, track_running_stats=True)\n",
              "        (conv2): Conv2d(128, 128, kernel_size=(3, 3), stride=(2, 2), padding=(1, 1), bias=False)\n",
              "        (bn2): BatchNorm2d(128, eps=1e-05, momentum=0.1, affine=True, track_running_stats=True)\n",
              "        (conv3): Conv2d(128, 512, kernel_size=(1, 1), stride=(1, 1), bias=False)\n",
              "        (bn3): BatchNorm2d(512, eps=1e-05, momentum=0.1, affine=True, track_running_stats=True)\n",
              "        (relu): ReLU(inplace=True)\n",
              "        (downsample): Sequential(\n",
              "          (0): Conv2d(256, 512, kernel_size=(1, 1), stride=(2, 2), bias=False)\n",
              "          (1): BatchNorm2d(512, eps=1e-05, momentum=0.1, affine=True, track_running_stats=True)\n",
              "        )\n",
              "      )\n",
              "      (1): Bottleneck(\n",
              "        (conv1): Conv2d(512, 128, kernel_size=(1, 1), stride=(1, 1), bias=False)\n",
              "        (bn1): BatchNorm2d(128, eps=1e-05, momentum=0.1, affine=True, track_running_stats=True)\n",
              "        (conv2): Conv2d(128, 128, kernel_size=(3, 3), stride=(1, 1), padding=(1, 1), bias=False)\n",
              "        (bn2): BatchNorm2d(128, eps=1e-05, momentum=0.1, affine=True, track_running_stats=True)\n",
              "        (conv3): Conv2d(128, 512, kernel_size=(1, 1), stride=(1, 1), bias=False)\n",
              "        (bn3): BatchNorm2d(512, eps=1e-05, momentum=0.1, affine=True, track_running_stats=True)\n",
              "        (relu): ReLU(inplace=True)\n",
              "      )\n",
              "      (2): Bottleneck(\n",
              "        (conv1): Conv2d(512, 128, kernel_size=(1, 1), stride=(1, 1), bias=False)\n",
              "        (bn1): BatchNorm2d(128, eps=1e-05, momentum=0.1, affine=True, track_running_stats=True)\n",
              "        (conv2): Conv2d(128, 128, kernel_size=(3, 3), stride=(1, 1), padding=(1, 1), bias=False)\n",
              "        (bn2): BatchNorm2d(128, eps=1e-05, momentum=0.1, affine=True, track_running_stats=True)\n",
              "        (conv3): Conv2d(128, 512, kernel_size=(1, 1), stride=(1, 1), bias=False)\n",
              "        (bn3): BatchNorm2d(512, eps=1e-05, momentum=0.1, affine=True, track_running_stats=True)\n",
              "        (relu): ReLU(inplace=True)\n",
              "      )\n",
              "      (3): Bottleneck(\n",
              "        (conv1): Conv2d(512, 128, kernel_size=(1, 1), stride=(1, 1), bias=False)\n",
              "        (bn1): BatchNorm2d(128, eps=1e-05, momentum=0.1, affine=True, track_running_stats=True)\n",
              "        (conv2): Conv2d(128, 128, kernel_size=(3, 3), stride=(1, 1), padding=(1, 1), bias=False)\n",
              "        (bn2): BatchNorm2d(128, eps=1e-05, momentum=0.1, affine=True, track_running_stats=True)\n",
              "        (conv3): Conv2d(128, 512, kernel_size=(1, 1), stride=(1, 1), bias=False)\n",
              "        (bn3): BatchNorm2d(512, eps=1e-05, momentum=0.1, affine=True, track_running_stats=True)\n",
              "        (relu): ReLU(inplace=True)\n",
              "      )\n",
              "    )\n",
              "    (layer3): Sequential(\n",
              "      (0): Bottleneck(\n",
              "        (conv1): Conv2d(512, 256, kernel_size=(1, 1), stride=(1, 1), bias=False)\n",
              "        (bn1): BatchNorm2d(256, eps=1e-05, momentum=0.1, affine=True, track_running_stats=True)\n",
              "        (conv2): Conv2d(256, 256, kernel_size=(3, 3), stride=(2, 2), padding=(1, 1), bias=False)\n",
              "        (bn2): BatchNorm2d(256, eps=1e-05, momentum=0.1, affine=True, track_running_stats=True)\n",
              "        (conv3): Conv2d(256, 1024, kernel_size=(1, 1), stride=(1, 1), bias=False)\n",
              "        (bn3): BatchNorm2d(1024, eps=1e-05, momentum=0.1, affine=True, track_running_stats=True)\n",
              "        (relu): ReLU(inplace=True)\n",
              "        (downsample): Sequential(\n",
              "          (0): Conv2d(512, 1024, kernel_size=(1, 1), stride=(2, 2), bias=False)\n",
              "          (1): BatchNorm2d(1024, eps=1e-05, momentum=0.1, affine=True, track_running_stats=True)\n",
              "        )\n",
              "      )\n",
              "      (1): Bottleneck(\n",
              "        (conv1): Conv2d(1024, 256, kernel_size=(1, 1), stride=(1, 1), bias=False)\n",
              "        (bn1): BatchNorm2d(256, eps=1e-05, momentum=0.1, affine=True, track_running_stats=True)\n",
              "        (conv2): Conv2d(256, 256, kernel_size=(3, 3), stride=(1, 1), padding=(1, 1), bias=False)\n",
              "        (bn2): BatchNorm2d(256, eps=1e-05, momentum=0.1, affine=True, track_running_stats=True)\n",
              "        (conv3): Conv2d(256, 1024, kernel_size=(1, 1), stride=(1, 1), bias=False)\n",
              "        (bn3): BatchNorm2d(1024, eps=1e-05, momentum=0.1, affine=True, track_running_stats=True)\n",
              "        (relu): ReLU(inplace=True)\n",
              "      )\n",
              "      (2): Bottleneck(\n",
              "        (conv1): Conv2d(1024, 256, kernel_size=(1, 1), stride=(1, 1), bias=False)\n",
              "        (bn1): BatchNorm2d(256, eps=1e-05, momentum=0.1, affine=True, track_running_stats=True)\n",
              "        (conv2): Conv2d(256, 256, kernel_size=(3, 3), stride=(1, 1), padding=(1, 1), bias=False)\n",
              "        (bn2): BatchNorm2d(256, eps=1e-05, momentum=0.1, affine=True, track_running_stats=True)\n",
              "        (conv3): Conv2d(256, 1024, kernel_size=(1, 1), stride=(1, 1), bias=False)\n",
              "        (bn3): BatchNorm2d(1024, eps=1e-05, momentum=0.1, affine=True, track_running_stats=True)\n",
              "        (relu): ReLU(inplace=True)\n",
              "      )\n",
              "      (3): Bottleneck(\n",
              "        (conv1): Conv2d(1024, 256, kernel_size=(1, 1), stride=(1, 1), bias=False)\n",
              "        (bn1): BatchNorm2d(256, eps=1e-05, momentum=0.1, affine=True, track_running_stats=True)\n",
              "        (conv2): Conv2d(256, 256, kernel_size=(3, 3), stride=(1, 1), padding=(1, 1), bias=False)\n",
              "        (bn2): BatchNorm2d(256, eps=1e-05, momentum=0.1, affine=True, track_running_stats=True)\n",
              "        (conv3): Conv2d(256, 1024, kernel_size=(1, 1), stride=(1, 1), bias=False)\n",
              "        (bn3): BatchNorm2d(1024, eps=1e-05, momentum=0.1, affine=True, track_running_stats=True)\n",
              "        (relu): ReLU(inplace=True)\n",
              "      )\n",
              "      (4): Bottleneck(\n",
              "        (conv1): Conv2d(1024, 256, kernel_size=(1, 1), stride=(1, 1), bias=False)\n",
              "        (bn1): BatchNorm2d(256, eps=1e-05, momentum=0.1, affine=True, track_running_stats=True)\n",
              "        (conv2): Conv2d(256, 256, kernel_size=(3, 3), stride=(1, 1), padding=(1, 1), bias=False)\n",
              "        (bn2): BatchNorm2d(256, eps=1e-05, momentum=0.1, affine=True, track_running_stats=True)\n",
              "        (conv3): Conv2d(256, 1024, kernel_size=(1, 1), stride=(1, 1), bias=False)\n",
              "        (bn3): BatchNorm2d(1024, eps=1e-05, momentum=0.1, affine=True, track_running_stats=True)\n",
              "        (relu): ReLU(inplace=True)\n",
              "      )\n",
              "      (5): Bottleneck(\n",
              "        (conv1): Conv2d(1024, 256, kernel_size=(1, 1), stride=(1, 1), bias=False)\n",
              "        (bn1): BatchNorm2d(256, eps=1e-05, momentum=0.1, affine=True, track_running_stats=True)\n",
              "        (conv2): Conv2d(256, 256, kernel_size=(3, 3), stride=(1, 1), padding=(1, 1), bias=False)\n",
              "        (bn2): BatchNorm2d(256, eps=1e-05, momentum=0.1, affine=True, track_running_stats=True)\n",
              "        (conv3): Conv2d(256, 1024, kernel_size=(1, 1), stride=(1, 1), bias=False)\n",
              "        (bn3): BatchNorm2d(1024, eps=1e-05, momentum=0.1, affine=True, track_running_stats=True)\n",
              "        (relu): ReLU(inplace=True)\n",
              "      )\n",
              "    )\n",
              "    (layer4): Sequential(\n",
              "      (0): Bottleneck(\n",
              "        (conv1): Conv2d(1024, 512, kernel_size=(1, 1), stride=(1, 1), bias=False)\n",
              "        (bn1): BatchNorm2d(512, eps=1e-05, momentum=0.1, affine=True, track_running_stats=True)\n",
              "        (conv2): Conv2d(512, 512, kernel_size=(3, 3), stride=(2, 2), padding=(1, 1), bias=False)\n",
              "        (bn2): BatchNorm2d(512, eps=1e-05, momentum=0.1, affine=True, track_running_stats=True)\n",
              "        (conv3): Conv2d(512, 2048, kernel_size=(1, 1), stride=(1, 1), bias=False)\n",
              "        (bn3): BatchNorm2d(2048, eps=1e-05, momentum=0.1, affine=True, track_running_stats=True)\n",
              "        (relu): ReLU(inplace=True)\n",
              "        (downsample): Sequential(\n",
              "          (0): Conv2d(1024, 2048, kernel_size=(1, 1), stride=(2, 2), bias=False)\n",
              "          (1): BatchNorm2d(2048, eps=1e-05, momentum=0.1, affine=True, track_running_stats=True)\n",
              "        )\n",
              "      )\n",
              "      (1): Bottleneck(\n",
              "        (conv1): Conv2d(2048, 512, kernel_size=(1, 1), stride=(1, 1), bias=False)\n",
              "        (bn1): BatchNorm2d(512, eps=1e-05, momentum=0.1, affine=True, track_running_stats=True)\n",
              "        (conv2): Conv2d(512, 512, kernel_size=(3, 3), stride=(1, 1), padding=(1, 1), bias=False)\n",
              "        (bn2): BatchNorm2d(512, eps=1e-05, momentum=0.1, affine=True, track_running_stats=True)\n",
              "        (conv3): Conv2d(512, 2048, kernel_size=(1, 1), stride=(1, 1), bias=False)\n",
              "        (bn3): BatchNorm2d(2048, eps=1e-05, momentum=0.1, affine=True, track_running_stats=True)\n",
              "        (relu): ReLU(inplace=True)\n",
              "      )\n",
              "      (2): Bottleneck(\n",
              "        (conv1): Conv2d(2048, 512, kernel_size=(1, 1), stride=(1, 1), bias=False)\n",
              "        (bn1): BatchNorm2d(512, eps=1e-05, momentum=0.1, affine=True, track_running_stats=True)\n",
              "        (conv2): Conv2d(512, 512, kernel_size=(3, 3), stride=(1, 1), padding=(1, 1), bias=False)\n",
              "        (bn2): BatchNorm2d(512, eps=1e-05, momentum=0.1, affine=True, track_running_stats=True)\n",
              "        (conv3): Conv2d(512, 2048, kernel_size=(1, 1), stride=(1, 1), bias=False)\n",
              "        (bn3): BatchNorm2d(2048, eps=1e-05, momentum=0.1, affine=True, track_running_stats=True)\n",
              "        (relu): ReLU(inplace=True)\n",
              "      )\n",
              "    )\n",
              "    (avgpool): AdaptiveAvgPool2d(output_size=(1, 1))\n",
              "    (fc): None\n",
              "    (last_linear): Linear(in_features=2048, out_features=1000, bias=True)\n",
              "  )\n",
              "  (l0): Linear(in_features=2048, out_features=28, bias=True)\n",
              ")"
            ]
          },
          "metadata": {},
          "execution_count": 24
        }
      ]
    },
    {
      "cell_type": "code",
      "metadata": {
        "id": "QgIlmjjlCQ2B"
      },
      "source": [
        "path = 'test'\n",
        "test_keypoints = []\n",
        "image_list = []\n",
        "for img in os.listdir('test'):\n",
        "  with torch.no_grad():  \n",
        "    image = imread(f\"{path}/{img}\")\n",
        "    image = cv2.cvtColor(image, cv2.COLOR_BGR2RGB)\n",
        "    image = cv2.resize(image, (224, 224))\n",
        "    orig_frame = image.copy()\n",
        "    orig_h, orig_w, c = orig_frame.shape\n",
        "    image = cv2.cvtColor(image, cv2.COLOR_BGR2RGB)\n",
        "    image = image / 255.0\n",
        "    image = np.transpose(image, (2, 0, 1))\n",
        "    image = torch.tensor(image, dtype=torch.float)\n",
        "    image = image.unsqueeze(0).to(config.DEVICE)\n",
        "    outputs = model(image)\n",
        "  outputs = outputs.cpu().detach().numpy()\n",
        "  outputs = outputs.reshape(-1, 2)\n",
        "  keypoints = outputs\n",
        "\n",
        "  test_keypoints.append(keypoints)\n",
        "  image_list.append(img)\n"
      ],
      "id": "QgIlmjjlCQ2B",
      "execution_count": 58,
      "outputs": []
    },
    {
      "cell_type": "code",
      "metadata": {
        "colab": {
          "base_uri": "https://localhost:8080/"
        },
        "id": "PlTwA4PRV-55",
        "outputId": "c6fb0063-9da7-459a-dcd6-0e6e1ef71132"
      },
      "source": [
        "test = pd.DataFrame.from_records(test_keypoints)\n",
        "test.shape"
      ],
      "id": "PlTwA4PRV-55",
      "execution_count": 143,
      "outputs": [
        {
          "output_type": "execute_result",
          "data": {
            "text/plain": [
              "(1000, 14)"
            ]
          },
          "metadata": {},
          "execution_count": 143
        }
      ]
    },
    {
      "cell_type": "code",
      "metadata": {
        "id": "muv8gXsop_B7"
      },
      "source": [
        "for column in test.columns:\n",
        "  test[str('x'+ str(column+1))] = test[column][0][0]\n",
        "  test['y'+ str(column+1)] = test[column][0][1]"
      ],
      "id": "muv8gXsop_B7",
      "execution_count": 144,
      "outputs": []
    },
    {
      "cell_type": "code",
      "metadata": {
        "id": "chgvTPYpyxd2"
      },
      "source": [
        "test = test.drop(test.columns[0:14], 1)\n",
        "#test['filename'] = image_list"
      ],
      "id": "chgvTPYpyxd2",
      "execution_count": 145,
      "outputs": []
    },
    {
      "cell_type": "code",
      "metadata": {
        "id": "KDbSR5XQ4Nz4"
      },
      "source": [
        "test.insert(0, 'filename', image_list)"
      ],
      "id": "KDbSR5XQ4Nz4",
      "execution_count": 146,
      "outputs": []
    },
    {
      "cell_type": "code",
      "metadata": {
        "colab": {
          "base_uri": "https://localhost:8080/",
          "height": 225
        },
        "id": "TDYMMuuw58mV",
        "outputId": "bfa83184-bb1e-45bf-a78d-1a6ffa833587"
      },
      "source": [
        "test.head()"
      ],
      "id": "TDYMMuuw58mV",
      "execution_count": 150,
      "outputs": [
        {
          "output_type": "execute_result",
          "data": {
            "text/html": [
              "<div>\n",
              "<style scoped>\n",
              "    .dataframe tbody tr th:only-of-type {\n",
              "        vertical-align: middle;\n",
              "    }\n",
              "\n",
              "    .dataframe tbody tr th {\n",
              "        vertical-align: top;\n",
              "    }\n",
              "\n",
              "    .dataframe thead th {\n",
              "        text-align: right;\n",
              "    }\n",
              "</style>\n",
              "<table border=\"1\" class=\"dataframe\">\n",
              "  <thead>\n",
              "    <tr style=\"text-align: right;\">\n",
              "      <th></th>\n",
              "      <th>filename</th>\n",
              "      <th>x1</th>\n",
              "      <th>y1</th>\n",
              "      <th>x2</th>\n",
              "      <th>y2</th>\n",
              "      <th>x3</th>\n",
              "      <th>y3</th>\n",
              "      <th>x4</th>\n",
              "      <th>y4</th>\n",
              "      <th>x5</th>\n",
              "      <th>y5</th>\n",
              "      <th>x6</th>\n",
              "      <th>y6</th>\n",
              "      <th>x7</th>\n",
              "      <th>y7</th>\n",
              "      <th>x8</th>\n",
              "      <th>y8</th>\n",
              "      <th>x9</th>\n",
              "      <th>y9</th>\n",
              "      <th>x10</th>\n",
              "      <th>y10</th>\n",
              "      <th>x11</th>\n",
              "      <th>y11</th>\n",
              "      <th>x12</th>\n",
              "      <th>y12</th>\n",
              "      <th>x13</th>\n",
              "      <th>y13</th>\n",
              "      <th>x14</th>\n",
              "      <th>y14</th>\n",
              "    </tr>\n",
              "  </thead>\n",
              "  <tbody>\n",
              "    <tr>\n",
              "      <th>0</th>\n",
              "      <td>00029.jpg</td>\n",
              "      <td>12.006166</td>\n",
              "      <td>19.377846</td>\n",
              "      <td>17.157728</td>\n",
              "      <td>12.559436</td>\n",
              "      <td>36.116447</td>\n",
              "      <td>21.404409</td>\n",
              "      <td>45.989471</td>\n",
              "      <td>11.029432</td>\n",
              "      <td>8.892033</td>\n",
              "      <td>19.701456</td>\n",
              "      <td>14.628884</td>\n",
              "      <td>13.411066</td>\n",
              "      <td>19.138893</td>\n",
              "      <td>24.406431</td>\n",
              "      <td>31.652533</td>\n",
              "      <td>18.140705</td>\n",
              "      <td>41.31958</td>\n",
              "      <td>23.141539</td>\n",
              "      <td>44.971302</td>\n",
              "      <td>15.987866</td>\n",
              "      <td>36.109371</td>\n",
              "      <td>36.525871</td>\n",
              "      <td>16.597509</td>\n",
              "      <td>37.545311</td>\n",
              "      <td>27.017542</td>\n",
              "      <td>37.044849</td>\n",
              "      <td>32.831604</td>\n",
              "      <td>44.03545</td>\n",
              "    </tr>\n",
              "    <tr>\n",
              "      <th>1</th>\n",
              "      <td>00023.jpg</td>\n",
              "      <td>12.006166</td>\n",
              "      <td>19.377846</td>\n",
              "      <td>17.157728</td>\n",
              "      <td>12.559436</td>\n",
              "      <td>36.116447</td>\n",
              "      <td>21.404409</td>\n",
              "      <td>45.989471</td>\n",
              "      <td>11.029432</td>\n",
              "      <td>8.892033</td>\n",
              "      <td>19.701456</td>\n",
              "      <td>14.628884</td>\n",
              "      <td>13.411066</td>\n",
              "      <td>19.138893</td>\n",
              "      <td>24.406431</td>\n",
              "      <td>31.652533</td>\n",
              "      <td>18.140705</td>\n",
              "      <td>41.31958</td>\n",
              "      <td>23.141539</td>\n",
              "      <td>44.971302</td>\n",
              "      <td>15.987866</td>\n",
              "      <td>36.109371</td>\n",
              "      <td>36.525871</td>\n",
              "      <td>16.597509</td>\n",
              "      <td>37.545311</td>\n",
              "      <td>27.017542</td>\n",
              "      <td>37.044849</td>\n",
              "      <td>32.831604</td>\n",
              "      <td>44.03545</td>\n",
              "    </tr>\n",
              "    <tr>\n",
              "      <th>2</th>\n",
              "      <td>00014.jpg</td>\n",
              "      <td>12.006166</td>\n",
              "      <td>19.377846</td>\n",
              "      <td>17.157728</td>\n",
              "      <td>12.559436</td>\n",
              "      <td>36.116447</td>\n",
              "      <td>21.404409</td>\n",
              "      <td>45.989471</td>\n",
              "      <td>11.029432</td>\n",
              "      <td>8.892033</td>\n",
              "      <td>19.701456</td>\n",
              "      <td>14.628884</td>\n",
              "      <td>13.411066</td>\n",
              "      <td>19.138893</td>\n",
              "      <td>24.406431</td>\n",
              "      <td>31.652533</td>\n",
              "      <td>18.140705</td>\n",
              "      <td>41.31958</td>\n",
              "      <td>23.141539</td>\n",
              "      <td>44.971302</td>\n",
              "      <td>15.987866</td>\n",
              "      <td>36.109371</td>\n",
              "      <td>36.525871</td>\n",
              "      <td>16.597509</td>\n",
              "      <td>37.545311</td>\n",
              "      <td>27.017542</td>\n",
              "      <td>37.044849</td>\n",
              "      <td>32.831604</td>\n",
              "      <td>44.03545</td>\n",
              "    </tr>\n",
              "    <tr>\n",
              "      <th>3</th>\n",
              "      <td>00017.jpg</td>\n",
              "      <td>12.006166</td>\n",
              "      <td>19.377846</td>\n",
              "      <td>17.157728</td>\n",
              "      <td>12.559436</td>\n",
              "      <td>36.116447</td>\n",
              "      <td>21.404409</td>\n",
              "      <td>45.989471</td>\n",
              "      <td>11.029432</td>\n",
              "      <td>8.892033</td>\n",
              "      <td>19.701456</td>\n",
              "      <td>14.628884</td>\n",
              "      <td>13.411066</td>\n",
              "      <td>19.138893</td>\n",
              "      <td>24.406431</td>\n",
              "      <td>31.652533</td>\n",
              "      <td>18.140705</td>\n",
              "      <td>41.31958</td>\n",
              "      <td>23.141539</td>\n",
              "      <td>44.971302</td>\n",
              "      <td>15.987866</td>\n",
              "      <td>36.109371</td>\n",
              "      <td>36.525871</td>\n",
              "      <td>16.597509</td>\n",
              "      <td>37.545311</td>\n",
              "      <td>27.017542</td>\n",
              "      <td>37.044849</td>\n",
              "      <td>32.831604</td>\n",
              "      <td>44.03545</td>\n",
              "    </tr>\n",
              "    <tr>\n",
              "      <th>4</th>\n",
              "      <td>00015.jpg</td>\n",
              "      <td>12.006166</td>\n",
              "      <td>19.377846</td>\n",
              "      <td>17.157728</td>\n",
              "      <td>12.559436</td>\n",
              "      <td>36.116447</td>\n",
              "      <td>21.404409</td>\n",
              "      <td>45.989471</td>\n",
              "      <td>11.029432</td>\n",
              "      <td>8.892033</td>\n",
              "      <td>19.701456</td>\n",
              "      <td>14.628884</td>\n",
              "      <td>13.411066</td>\n",
              "      <td>19.138893</td>\n",
              "      <td>24.406431</td>\n",
              "      <td>31.652533</td>\n",
              "      <td>18.140705</td>\n",
              "      <td>41.31958</td>\n",
              "      <td>23.141539</td>\n",
              "      <td>44.971302</td>\n",
              "      <td>15.987866</td>\n",
              "      <td>36.109371</td>\n",
              "      <td>36.525871</td>\n",
              "      <td>16.597509</td>\n",
              "      <td>37.545311</td>\n",
              "      <td>27.017542</td>\n",
              "      <td>37.044849</td>\n",
              "      <td>32.831604</td>\n",
              "      <td>44.03545</td>\n",
              "    </tr>\n",
              "  </tbody>\n",
              "</table>\n",
              "</div>"
            ],
            "text/plain": [
              "    filename         x1         y1  ...        y13        x14       y14\n",
              "0  00029.jpg  12.006166  19.377846  ...  37.044849  32.831604  44.03545\n",
              "1  00023.jpg  12.006166  19.377846  ...  37.044849  32.831604  44.03545\n",
              "2  00014.jpg  12.006166  19.377846  ...  37.044849  32.831604  44.03545\n",
              "3  00017.jpg  12.006166  19.377846  ...  37.044849  32.831604  44.03545\n",
              "4  00015.jpg  12.006166  19.377846  ...  37.044849  32.831604  44.03545\n",
              "\n",
              "[5 rows x 29 columns]"
            ]
          },
          "metadata": {},
          "execution_count": 150
        }
      ]
    },
    {
      "cell_type": "code",
      "metadata": {
        "id": "a36XV2sI5Y3N"
      },
      "source": [
        "test.to_csv('test_keypoints.csv', sep='\\t')"
      ],
      "id": "a36XV2sI5Y3N",
      "execution_count": 151,
      "outputs": []
    }
  ]
}