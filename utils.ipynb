{
  "nbformat": 4,
  "nbformat_minor": 5,
  "metadata": {
    "kernelspec": {
      "display_name": "Python 3 (ipykernel)",
      "language": "python",
      "name": "python3"
    },
    "language_info": {
      "codemirror_mode": {
        "name": "ipython",
        "version": 3
      },
      "file_extension": ".py",
      "mimetype": "text/x-python",
      "name": "python",
      "nbconvert_exporter": "python",
      "pygments_lexer": "ipython3",
      "version": "3.7.9"
    },
    "colab": {
      "name": "utils.ipynb",
      "provenance": [],
      "include_colab_link": true
    }
  },
  "cells": [
    {
      "cell_type": "markdown",
      "metadata": {
        "id": "view-in-github",
        "colab_type": "text"
      },
      "source": [
        "<a href=\"https://colab.research.google.com/github/yuliyabohdan/Facial-Keypoint-Detection/blob/main/utils.ipynb\" target=\"_parent\"><img src=\"https://colab.research.google.com/assets/colab-badge.svg\" alt=\"Open In Colab\"/></a>"
      ]
    },
    {
      "cell_type": "code",
      "metadata": {
        "id": "48f267f8"
      },
      "source": [
        "#!jupyter nbconvert --to script config.ipynb\n",
        "import matplotlib.pyplot as plt\n",
        "import numpy as np\n",
        "import config\n",
        "def valid_keypoints_plot(image, outputs, orig_keypoints, epoch):\n",
        "    \"\"\"\n",
        "    This function plots the regressed (predicted) keypoints and the actual \n",
        "    keypoints after each validation epoch for one image in the batch.\n",
        "    \"\"\"\n",
        "    # detach the image, keypoints, and output tensors from GPU to CPU\n",
        "    image = image.detach().cpu()\n",
        "    outputs = outputs.detach().cpu().numpy()\n",
        "    orig_keypoints = orig_keypoints.detach().cpu().numpy()\n",
        "    # just get a single datapoint from each batch\n",
        "    img = image[0]\n",
        "    output_keypoint = outputs[0]\n",
        "    orig_keypoint = orig_keypoints[0]\n",
        "    img = np.array(img, dtype='float32')\n",
        "    img = np.transpose(img, (1, 2, 0))\n",
        "    plt.imshow(img)\n",
        "    \n",
        "    output_keypoint = output_keypoint.reshape(-1, 2)\n",
        "    orig_keypoint = orig_keypoint.reshape(-1, 2)\n",
        "    for p in range(output_keypoint.shape[0]):\n",
        "        plt.plot(output_keypoint[p, 0], output_keypoint[p, 1], 'r.')\n",
        "        plt.plot(orig_keypoint[p, 0], orig_keypoint[p, 1], 'b.')\n",
        "    plt.savefig(f\"{config.OUTPUT_PATH}/val_epoch_{epoch}.png\")\n",
        "    plt.close()"
      ],
      "id": "48f267f8",
      "execution_count": null,
      "outputs": []
    },
    {
      "cell_type": "code",
      "metadata": {
        "id": "e92b0551"
      },
      "source": [
        "def dataset_keypoints_plot(data):\n",
        "    \"\"\"\n",
        "    This function shows the image faces and keypoint plots that the model\n",
        "    will actually see. This is a good way to validate that our dataset is in\n",
        "    fact corrent and the faces align wiht the keypoint features. The plot \n",
        "    will be show just before training starts. Press `q` to quit the plot and\n",
        "    start training.\n",
        "    \"\"\"\n",
        "    plt.figure(figsize=(10, 10))\n",
        "    for i in range(9):\n",
        "        sample = data[i]\n",
        "        img = sample['image']\n",
        "        img = np.array(img, dtype='float32')\n",
        "        img = np.transpose(img, (1, 2, 0))\n",
        "        plt.subplot(3, 3, i+1)\n",
        "        plt.imshow(img)\n",
        "        keypoints = sample['keypoints']\n",
        "        for j in range(len(keypoints)):\n",
        "            plt.plot(keypoints[j, 0], keypoints[j, 1], 'b.')\n",
        "    plt.show()\n",
        "    plt.close()"
      ],
      "id": "e92b0551",
      "execution_count": null,
      "outputs": []
    },
    {
      "cell_type": "code",
      "metadata": {
        "id": "ebdfdbcd"
      },
      "source": [
        ""
      ],
      "id": "ebdfdbcd",
      "execution_count": null,
      "outputs": []
    }
  ]
}